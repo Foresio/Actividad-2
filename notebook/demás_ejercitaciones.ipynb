{
 "cells": [
  {
   "cell_type": "markdown",
   "metadata": {},
   "source": [
    "# Ejercicio 1\n",
    "\n",
    "Entiendo porque directamente el ejercicio iguala todo el texto a una variable.\n",
    "\n",
    "El texto original habia que decodificarlo de ROT13. Si bien antes se usaba el codecs, para luego usar directamente str.translate(), era entendible que el ejercicio se ajustase de esta manera más sencilla para los alumnos"
   ]
  },
  {
   "cell_type": "code",
   "execution_count": null,
   "metadata": {},
   "outputs": [],
   "source": [
    "import this\n",
    "\n",
    "# --- Importo 'codecs' pese a estar obsoleto ----\n",
    "import codecs\n",
    "\n",
    "# Hay que traducir de ROT13 antes de leerlo\n",
    "zen_of_python = codecs.decode(this.s, \"rot_13\")\n",
    "\n",
    "# ---- Sin embargo, para este ejercicio, lo haremos como piden ----\n",
    "\n",
    "zen_text = \"\"\"Beautiful is better than ugly.\n",
    "Explicit is better than implicit.\n",
    "Simple is better than complex.\n",
    "Complex is better than complicated.\n",
    "Flat is better than nested.\n",
    "Sparse is better than dense.\n",
    "Readability counts.\n",
    "Special cases aren't special enough to break the rules.\n",
    "Although practicality beats purity.\n",
    "Errors should never pass silently.\n",
    "Unless explicitly silenced.\n",
    "In the face of ambiguity, refuse the temptation to guess.\n",
    "There should be one-- and preferably only one --obvious way to do it.\n",
    "Although that way may not be obvious at first unless you're Dutch.\n",
    "Now is better than never.\n",
    "Although never is often better than *right* now.\n",
    "If the implementation is hard to explain, it's a bad idea.\n",
    "If the implementation is easy to explain, it may be a good idea.\n",
    "Namespaces are one honking great idea -- let's do more of those!\"\"\"\n",
    "\n",
    "# Separa cada linea de oración en listas\n",
    "lineas = zen_text.split(\"\\n\")\n",
    "\n",
    "vowels = (\"A\", \"E\", \"I\", \"O\", \"U\", \"a\", \"e\",\"i\", \"o\", \"u\")\n",
    "\n",
    "# Recorrer las líneas y filtrar según la segunda palabra\n",
    "for linea in lineas:\n",
    "    # Divide la linea de oración en palabras\n",
    "    palabras = linea.split()\n",
    "    # Comprobar la segunda palabra\n",
    "    if len(linea) > 1 and palabras[1][0] in vowels: \n",
    "        print(linea)     "
   ]
  },
  {
   "cell_type": "markdown",
   "metadata": {},
   "source": [
    "# Ejercicio 2"
   ]
  },
  {
   "cell_type": "code",
   "execution_count": 2,
   "metadata": {},
   "outputs": [
    {
     "name": "stdout",
     "output_type": "stream",
     "text": [
      "Jugando al nuevo FPS del momento con amigos\n"
     ]
    }
   ],
   "source": [
    "titles = [ \"Speedrun de Super Mario en tiempo récord\",\n",
    "          \"Charla sobre desarrollo de videojuegos\",\n",
    "          \"Jugando al nuevo FPS del momento con amigos\",\n",
    "          \"Música en vivo: improvisaciones al piano\" ]\n",
    "\n",
    "longest_words = 0\n",
    "\n",
    "# Recorremos cada titulo\n",
    "for titulo in titles:\n",
    "    # Separamos cada palabra del titulo y las guardamos en listas\n",
    "    palabras = titulo.split()\n",
    "    # Compara el mayor y luego asigna\n",
    "    if len(palabras) > longest_words:\n",
    "        longest_words = len(palabras)\n",
    "        longest_title = titulo\n",
    "print(longest_title)"
   ]
  },
  {
   "cell_type": "markdown",
   "metadata": {},
   "source": [
    "# Ejercicio 3\n",
    "\n",
    "Me confundia mucho al inicio entender qué era exactamente lo que pedia. Crei que hablaba de que una vez una palabra fuese introducida, debia de invocar todo el código de conducta. Nó unicamente la oración en la que salia."
   ]
  },
  {
   "cell_type": "code",
   "execution_count": 3,
   "metadata": {},
   "outputs": [
    {
     "name": "stdout",
     "output_type": "stream",
     "text": [
      "\n",
      "Reglas que contienen la palabra clave:\n"
     ]
    }
   ],
   "source": [
    "# Código de conducta\n",
    "rules = \"\"\"Respeta a los demás. No se permiten insultos ni lenguaje ofensivo.\n",
    "Evita el spam. No publiques enlaces sospechosos o repetitivos.\n",
    "No compartas información personal.\n",
    "Usa los canales adecuados para cada tema.\n",
    "Sigue las instrucciones de los moderadores.\"\"\"\n",
    "\n",
    "# Solicitar palabra clave al usuario\n",
    "keyword = input(\"Ingresa una palabra clave para buscar en las reglas: \").lower()\n",
    "\n",
    "# Dividir las reglas en líneas y buscar la palabra clave\n",
    "print(\"\\nReglas que contienen la palabra clave:\")\n",
    "for rule in rules.split(\"\\n\"):\n",
    "    if keyword in rule.lower():  # Convertir a minúsculas para búsqueda insensible a mayúsculas\n",
    "        print(rule)"
   ]
  },
  {
   "cell_type": "markdown",
   "metadata": {},
   "source": [
    "# Ejercicio 4\n",
    "\n",
    "Le agregé que diga porque es que falló la introducción. Siento que es mejor asi tanto como para ir verificando y creando el programa, como en el ámbito practico del mismo"
   ]
  },
  {
   "cell_type": "code",
   "execution_count": 4,
   "metadata": {},
   "outputs": [
    {
     "name": "stdout",
     "output_type": "stream",
     "text": [
      "No contiene una letra mayuscula\n",
      "El nombre de usuario no cumple con los requisitos.\n"
     ]
    }
   ],
   "source": [
    "def validar_usuario(username):\n",
    "    # Verificar que tenga al menos 5 caracteres\n",
    "    if len(username) < 5:\n",
    "        print(\"No es suficientemente larga\")\n",
    "        return False\n",
    "\n",
    "    # Verificar que contenga al menos un número\n",
    "    digito = False\n",
    "    for char in username:\n",
    "        if char.isdigit():\n",
    "            digito = True\n",
    "            break\n",
    "    if not digito:\n",
    "        print(\"No contiene un numero\")\n",
    "        return False\n",
    "\n",
    "    # Verificar que contenga al menos una letra mayúscula\n",
    "    mayuscula = False\n",
    "    for char in username:\n",
    "        # isupper() devuelve True si la cadena solo contiene caracteres en mayúsculas \n",
    "        if char.isupper():\n",
    "            mayuscula = True\n",
    "            break\n",
    "    if not mayuscula:\n",
    "        print(\"No contiene una letra mayuscula\")\n",
    "        return False\n",
    "    # Verificar que solo contenga letras y números\n",
    "    if not username.isalnum():\n",
    "        print(\"Contiene un caracter no alfanumerico\")\n",
    "        return False\n",
    "\n",
    "    return True\n",
    "\n",
    "# Solicitar nombre de usuario al usuario\n",
    "username = input(\"Ingrese un nombre de usuario: \")\n",
    "\n",
    "# Validar y mostrar el resultado\n",
    "if validar_usuario(username):\n",
    "    print(\"El nombre de usuario es válido.\")\n",
    "else:\n",
    "    print(\"El nombre de usuario no cumple con los requisitos.\")"
   ]
  },
  {
   "cell_type": "markdown",
   "metadata": {},
   "source": [
    "# Ejercicio 5\n",
    "\n",
    "Con tal de que no concidere que el cero ó un valor negativo es una velocidad, categorice que de 1 a 200 es 'Rápido' "
   ]
  },
  {
   "cell_type": "code",
   "execution_count": null,
   "metadata": {},
   "outputs": [
    {
     "name": "stdout",
     "output_type": "stream",
     "text": [
      "Categoría: Rápido\n"
     ]
    }
   ],
   "source": [
    "def velocidad_usuario(username):\n",
    "    if 0 < velocidad <= 200:\n",
    "        print(\"Categoría: Rápido\")\n",
    "        return\n",
    "    elif 200 < velocidad < 500:\n",
    "        print(\"Categoría: Normal\")\n",
    "        return\n",
    "    elif velocidad > 500:\n",
    "        print(\"Categoría: Lento\")\n",
    "        return\n",
    "    else:\n",
    "        return\n",
    "\n",
    "velocidad = int(input(\"Ingrese su tiempo de reacción en ms: \"))\n",
    "\n",
    "velocidad_usuario(velocidad)"
   ]
  },
  {
   "cell_type": "markdown",
   "metadata": {},
   "source": [
    "# Ejercicio 6\n",
    "\n",
    "Dividimos la lista de oraciones en listas de palabras y las vamos contando una por una a medidad que vamos leyendo las lineas"
   ]
  },
  {
   "cell_type": "code",
   "execution_count": 6,
   "metadata": {},
   "outputs": [
    {
     "name": "stdout",
     "output_type": "stream",
     "text": [
      "Menciones de 'música': 4\n",
      "Menciones de 'charla': 2\n",
      "Menciones de 'entretenimiento': 1\n",
      "\n"
     ]
    }
   ],
   "source": [
    "descriptions = [\n",
    "\"Streaming de música en vivo con covers y composiciones\",\n",
    "\"Charla interactiva con la audiencia sobre series y películas\",\n",
    "\"Jugamos a juegos retro y charlamos sobre su historia\",\n",
    "\"Exploramos la mejor música de los 80s y 90s\",\n",
    "\"Programa de entretenimiento con noticias y curiosidades del mundo gamer\",\n",
    "\"Sesión de charla con invitados especiales del mundo del streaming\",\n",
    "\"Música en directo con improvisaciones y peticiones del chat\",\n",
    "\"Un espacio para charlar relajada sobre tecnología y cultura digital\",\n",
    "\"Exploramos el impacto de la música en los videojuegos clásicos\"\n",
    "]\n",
    "\n",
    "keywords = (\"música\", \"charla\", \"entretenimiento\" )\n",
    "\n",
    "counter = [0, 0, 0]\n",
    "\n",
    "for sentence in descriptions:\n",
    "    words = sentence.split()\n",
    "    for search in words:\n",
    "        if search.lower() in keywords:\n",
    "            if search.lower() == keywords[0]:\n",
    "                counter[0] +=1\n",
    "            elif search.lower() == keywords[1]:\n",
    "                counter[1] +=1\n",
    "            elif search.lower() == keywords[2]:\n",
    "                counter[2] +=1\n",
    "\n",
    "print(f\"Menciones de 'música': {counter[0]}\\n\"\n",
    "f\"Menciones de 'charla': {counter[1]}\\n\"\n",
    "f\"Menciones de 'entretenimiento': {counter[2]}\\n\")"
   ]
  },
  {
   "cell_type": "markdown",
   "metadata": {},
   "source": [
    "# Ejercicio 7\n",
    "\n",
    "Este si se me complicó, porque habia que encontrar una manera de saber cuantos espacios faltaban para llegar a los 30 caracteres, y un usuario a la hora de ingresar una fecha puede poner, por ejemplo, que 3 de mayo del 2025 como \"3/5/25\" cuando deberia de ingresar como \"03/05/2025\" para que funcione bien el código.\n",
    "\n",
    "Por lo tanto,lo mejor fue usar directamente 'datetime' para evitar complicarla de más y recibir 8 digitos de fecha\n",
    "\n",
    "Ya con eso resuelto, era sólo cuestion de contar la diferencia total y generar los faltantes al azar"
   ]
  },
  {
   "cell_type": "code",
   "execution_count": null,
   "metadata": {},
   "outputs": [],
   "source": [
    "import random\n",
    "import string\n",
    "import datetime\n",
    "\n",
    "def generar_codigo_descuento(usuario):\n",
    "    # Validar que el usuario no exceda los 15 caracteres\n",
    "    if len(usuario) > 15:\n",
    "        print(\"El nombre de usuario no debe exceder los 15 caracteres.\")\n",
    "        return None\n",
    "\n",
    "    # Obtener la fecha actual en formato YYYYMMDD\n",
    "    fecha_actual = datetime.datetime.now().strftime(\"%Y%m%d\")\n",
    "\n",
    "    # Generar la parte aleatoria (8 caracteres con letras mayúsculas y números)\n",
    "    caracteres = string.ascii_uppercase + string.digits\n",
    "    # Diferenciar la longitud del usuario respecto a los caracteres faltantes\n",
    "    dif = 20 - len(usuario)\n",
    "    parte_aleatoria = ''.join(random.choices(caracteres, k=dif))\n",
    "\n",
    "    # Construir el código de descuento\n",
    "    codigo = f\"{usuario.upper()}-{fecha_actual}-{parte_aleatoria}\"\n",
    "    return codigo\n",
    "\n",
    "# Solicitar el nombre de usuario\n",
    "usuario = input(\"Ingrese su nombre de usuario: \")\n",
    "\n",
    "# Generar y mostrar el código si el usuario es válido\n",
    "codigo_descuento = generar_codigo_descuento(usuario)\n",
    "if codigo_descuento:\n",
    "    print(\"Código de descuento:\", codigo_descuento)"
   ]
  },
  {
   "cell_type": "markdown",
   "metadata": {},
   "source": [
    "# Ejercicio 8\n",
    "\n",
    "Acá con el sorted y .lower() directamente ordena los caracteres sin discriminar las mayusculas y muestra si son anagramas o no "
   ]
  },
  {
   "cell_type": "code",
   "execution_count": null,
   "metadata": {},
   "outputs": [],
   "source": [
    "def son_anagramas(palabra1, palabra2):\n",
    "    # Convertir a minúsculas y ordenar las letras\n",
    "    return sorted(palabra1.lower()) == sorted(palabra2.lower())\n",
    "\n",
    "# Solicitar palabras al usuario\n",
    "palabra1 = input(\"Ingrese la primera palabra: \")\n",
    "palabra2 = input(\"Ingrese la segunda palabra: \")\n",
    "\n",
    "# Verificar si son anagramas\n",
    "if son_anagramas(palabra1, palabra2):\n",
    "    print(\"Son anagramas.\")\n",
    "else:\n",
    "    print(\"No son anagramas.\")"
   ]
  },
  {
   "cell_type": "markdown",
   "metadata": {},
   "source": [
    "# Ejercicio 9\n",
    "\n",
    "Acá es ir acomodando cada iteración de limpieza agragandolos a una nueva lista uno a uno hasta que porfin tengamos la lista ordenada"
   ]
  },
  {
   "cell_type": "code",
   "execution_count": 7,
   "metadata": {},
   "outputs": [
    {
     "name": "stdout",
     "output_type": "stream",
     "text": [
      "Lista limpia de clientes:\n",
      "- Alejandro González\n",
      "- Ana López\n",
      "- Andrés Ocampo\n",
      "- Carlos Mendes\n",
      "- Claudia Torres\n",
      "- Damián Castillo\n",
      "- Gabriela Ruíz\n",
      "- Juan Pérez\n",
      "- Laura Ramos\n",
      "- Luis Rodríguez\n",
      "- Maria Martínez\n",
      "- Marta Suárez\n",
      "- María Martínez\n",
      "- Miguel Ángel\n",
      "- Monica Herrera\n",
      "- Patricia Vega\n",
      "- Pedro Gómez\n",
      "- Ricardo Fernández\n",
      "- Sandra Morales\n"
     ]
    }
   ],
   "source": [
    "def limpiar_lista_clientes(clientes):\n",
    "    \"\"\"\n",
    "    Función que limpia una lista de nombres de clientes eliminando espacios extra,\n",
    "    estandarizando el formato de los nombres, eliminando duplicados y valores vacíos.\n",
    "    \"\"\"\n",
    "    \n",
    "    # Paso 1: Eliminar valores nulos y vacíos\n",
    "    clientes_limpios = []\n",
    "    for cliente in clientes:\n",
    "        if cliente is not None and cliente.strip() != \"\":\n",
    "            clientes_limpios.append(cliente)\n",
    "\n",
    "    # Paso 2: Eliminar espacios extra y convertir a formato título\n",
    "    clientes_formateados = []\n",
    "    for cliente in clientes_limpios:\n",
    "        cliente_limpio = cliente.strip()  # Quita espacios al inicio y al final\n",
    "        cliente_formateado = cliente_limpio.title()  # Convierte la primera letra de cada palabra en mayúscula\n",
    "        clientes_formateados.append(cliente_formateado)\n",
    "\n",
    "    # Paso 3: Eliminar duplicados\n",
    "    clientes_sin_duplicados = []\n",
    "    for cliente in clientes_formateados:\n",
    "        if cliente not in clientes_sin_duplicados:  # Solo agrega si no está en la lista\n",
    "            clientes_sin_duplicados.append(cliente)\n",
    "\n",
    "    # Paso 4: Ordenar la lista alfabéticamente\n",
    "    clientes_ordenados = sorted(clientes_sin_duplicados)\n",
    "\n",
    "    return clientes_ordenados\n",
    "\n",
    "# Lista de clientes con datos erróneos\n",
    "clients = [\n",
    "    \" Ana López \", \"Pedro Gómez\", \"maria martínez\", \"Pedro Gómez \", \"\",\n",
    "    \" Luis Rodríguez \", None, \"ana lópez\", \"JUAN PÉREZ\", \"MARTA SUÁREZ\",\n",
    "    \"luis rodríguez\", \"maría martínez \", \" claudia torres\", \"CLAUDIA TORRES\",\n",
    "    \" \", \"pedro gómez\", \"Juan Pérez\", None, \"Ricardo Fernández\", \"LAURA RAMOS\",\n",
    "    \"carlos mendes\", \"RICARDO FERNÁNDEZ \", \" Laura ramos\", \"CARLOS MENDES\",\n",
    "    \"alejandro gonzález\", \" ALEJANDRO GONZÁLEZ \", \"Patricia Vega\",\n",
    "    \"patricia VEGA\", \"Andrés Ocampo\", \" andrés ocampo\", \"Monica Herrera\",\n",
    "    \"MONICA HERRERA \", \"gabriela ruíz\", \"Gabriela Ruíz\", \"sandra morales\",\n",
    "    \"SANDRA MORALES\", \"miguel ángel\", \"Miguel Ángel \", \" Damián Castillo\",\n",
    "    \"Damián Castillo \", None, \"\", \" \"\n",
    "]\n",
    "\n",
    "# Ejecutar la limpieza de datos\n",
    "clientes_limpios = limpiar_lista_clientes(clients)\n",
    "\n",
    "# Mostrar la lista limpia\n",
    "print(\"Lista limpia de clientes:\")\n",
    "for cliente in clientes_limpios:\n",
    "    print(\"-\", cliente)"
   ]
  }
 ],
 "metadata": {
  "kernelspec": {
   "display_name": "venv",
   "language": "python",
   "name": "python3"
  },
  "language_info": {
   "codemirror_mode": {
    "name": "ipython",
    "version": 3
   },
   "file_extension": ".py",
   "mimetype": "text/x-python",
   "name": "python",
   "nbconvert_exporter": "python",
   "pygments_lexer": "ipython3",
   "version": "3.12.9"
  }
 },
 "nbformat": 4,
 "nbformat_minor": 2
}
